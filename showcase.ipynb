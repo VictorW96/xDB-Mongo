{
 "cells": [
  {
   "cell_type": "code",
   "execution_count": 1,
   "metadata": {},
   "outputs": [],
   "source": [
    "from cat_facts_lib.cat_facts import get_cat_facts\n",
    "from pymongo import MongoClient"
   ]
  },
  {
   "cell_type": "code",
   "execution_count": 2,
   "metadata": {},
   "outputs": [],
   "source": [
    "cat_facts = get_cat_facts()['all']"
   ]
  },
  {
   "cell_type": "code",
   "execution_count": 3,
   "metadata": {},
   "outputs": [],
   "source": [
    "client = MongoClient(host='192.168.99.100',port=27017)\n",
    "db = client['catfacts']\n",
    "doc = db['catfacts']"
   ]
  },
  {
   "cell_type": "code",
   "execution_count": 4,
   "metadata": {
    "tags": [
     "outputPrepend"
    ]
   },
   "outputs": [],
   "source": [
    "for cat_fact in cat_facts:\n",
    "    doc.insert_one(cat_fact)"
   ]
  },
  {
   "cell_type": "code",
   "execution_count": 11,
   "metadata": {},
   "outputs": [],
   "source": [
    "cat_facts_3 = []\n",
    "for cat_fact in doc.find({\"upvotes\": {\"$gt\":3}}):\n",
    "    cat_facts_3.append(cat_fact)"
   ]
  },
  {
   "cell_type": "code",
   "execution_count": null,
   "metadata": {},
   "outputs": [],
   "source": []
  }
 ],
 "metadata": {
  "language_info": {
   "codemirror_mode": {
    "name": "ipython",
    "version": 3
   },
   "file_extension": ".py",
   "mimetype": "text/x-python",
   "name": "python",
   "nbconvert_exporter": "python",
   "pygments_lexer": "ipython3",
   "version": "3.6.8-final"
  },
  "orig_nbformat": 2,
  "kernelspec": {
   "name": "python36864bitxdbmongopipenv99e986164058414a9d1bdc258b5b4ef0",
   "display_name": "Python 3.6.8 64-bit ('xDB-Mongo': pipenv)"
  }
 },
 "nbformat": 4,
 "nbformat_minor": 2
}