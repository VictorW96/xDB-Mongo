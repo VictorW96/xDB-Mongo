{
 "cells": [
  {
   "cell_type": "code",
   "execution_count": 1,
   "metadata": {},
   "outputs": [],
   "source": [
    "from facts_lib.get_facts import get_cat_facts, get_dog_facts\n",
    "from pymongo import MongoClient"
   ]
  },
  {
   "cell_type": "code",
   "execution_count": 2,
   "metadata": {},
   "outputs": [],
   "source": [
    "cat_facts = get_cat_facts()['all']"
   ]
  },
  {
   "cell_type": "code",
   "execution_count": 3,
   "metadata": {},
   "outputs": [],
   "source": [
    "client = MongoClient(host='192.168.99.100',port=27017)\n",
    "db = client['facts']\n",
    "doc = db['animalfacts']"
   ]
  },
  {
   "cell_type": "code",
   "execution_count": 4,
   "metadata": {
    "tags": [
     "outputPrepend"
    ]
   },
   "outputs": [],
   "source": [
    "for cat_fact in cat_facts:\n",
    "    doc.insert_one(cat_fact)"
   ]
  },
  {
   "cell_type": "code",
   "execution_count": 5,
   "metadata": {},
   "outputs": [
    {
     "output_type": "stream",
     "name": "stdout",
     "text": "[{'_id': '5b01a447c6914f0014cc9a30', 'text': \"The special sensory organ called the Jacobson's organ allows a cat to have 14 times the sense of smell of a human. It consists of two fluid-filled sacs that connect to the cat's nasal cavity and is located on the roof of their mouth behind their teeth.\", 'type': 'cat', 'user': {'_id': '5a9ac18c7478810ea6c06381', 'name': {'first': 'Alex', 'last': 'Wohlbruck'}}, 'upvotes': 4, 'userUpvoted': None}, {'_id': '5b1b4055841d9700146158d3', 'text': 'Scottish sailer Alexander Selkirk once survived for 4 years on a deserted island thanks to feral cats that protected him from large rats during the night.', 'type': 'cat', 'user': {'_id': '5a9ac18c7478810ea6c06381', 'name': {'first': 'Alex', 'last': 'Wohlbruck'}}, 'upvotes': 4, 'userUpvoted': None}, {'_id': '5a4d76916ef087002174c28b', 'text': 'A cat’s nose pad is ridged with a unique pattern, just like the fingerprint of a human.', 'type': 'cat', 'user': {'_id': '5a9ac18c7478810ea6c06381', 'name': {'first': 'Alex', 'last': 'Wohlbruck'}}, 'upvotes': 4, 'userUpvoted': None}, {'_id': '58e009790aac31001185ed14', 'text': 'The technical term for \"hairball\" is \"bezoar.\"', 'type': 'cat', 'user': {'_id': '58e007480aac31001185ecef', 'name': {'first': 'Kasimir', 'last': 'Schulz'}}, 'upvotes': 4, 'userUpvoted': None}, {'_id': '5974fb4dfedacb0020b5b4cc', 'text': 'Cats can survive falls from up to 65 feet or more.', 'type': 'cat', 'user': {'_id': '5a9ac18c7478810ea6c06381', 'name': {'first': 'Alex', 'last': 'Wohlbruck'}}, 'upvotes': 4, 'userUpvoted': None}, {'_id': '5b1b4014841d9700146158d0', 'text': 'In 1879, Belgium unsuccessfully tried to use cats to deliver mail.', 'type': 'cat', 'user': {'_id': '5a9ac18c7478810ea6c06381', 'name': {'first': 'Alex', 'last': 'Wohlbruck'}}, 'upvotes': 4, 'userUpvoted': None}]\n"
    }
   ],
   "source": [
    "cat_facts_3 = []\n",
    "for cat_fact in doc.find({\"upvotes\": {\"$gt\":3}}):\n",
    "    cat_facts_3.append(cat_fact)\n",
    "print(cat_facts_3)"
   ]
  },
  {
   "cell_type": "code",
   "execution_count": 6,
   "metadata": {},
   "outputs": [],
   "source": [
    "dog_facts = get_dog_facts()['facts']"
   ]
  },
  {
   "cell_type": "code",
   "execution_count": 7,
   "metadata": {},
   "outputs": [],
   "source": [
    "for dog_fact in dog_facts:\n",
    "    doc.insert_one({\"text\":dog_fact})"
   ]
  },
  {
   "cell_type": "code",
   "execution_count": null,
   "metadata": {},
   "outputs": [],
   "source": []
  }
 ],
 "metadata": {
  "language_info": {
   "codemirror_mode": {
    "name": "ipython",
    "version": 3
   },
   "file_extension": ".py",
   "mimetype": "text/x-python",
   "name": "python",
   "nbconvert_exporter": "python",
   "pygments_lexer": "ipython3",
   "version": "3.6.8-final"
  },
  "orig_nbformat": 2,
  "kernelspec": {
   "name": "python36864bitxdbmongopipenv99e986164058414a9d1bdc258b5b4ef0",
   "display_name": "Python 3.6.8 64-bit ('xDB-Mongo': pipenv)"
  }
 },
 "nbformat": 4,
 "nbformat_minor": 2
}